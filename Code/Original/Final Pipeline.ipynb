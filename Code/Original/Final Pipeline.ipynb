{
 "cells": [
  {
   "cell_type": "code",
   "execution_count": 1,
   "metadata": {},
   "outputs": [
    {
     "data": {
      "text/plain": [
       "'/home/mohit19014/Hostility Detection/Final Experiments/HindiBERT/Final Test Pipeline'"
      ]
     },
     "execution_count": 1,
     "metadata": {},
     "output_type": "execute_result"
    }
   ],
   "source": [
    "pwd"
   ]
  },
  {
   "cell_type": "code",
   "execution_count": 2,
   "metadata": {},
   "outputs": [
    {
     "name": "stdout",
     "output_type": "stream",
     "text": [
      " \u001b[0m\u001b[01;34mData\u001b[0m/\n",
      "'defamation,fake Defamation.tex'\n",
      "'defamation,fake Fake.tex'\n",
      "'defamation,fake Hate.tex'\n",
      "'defamation,fake Offensive.tex'\n",
      "'defamation,hate,offensive Defamation.tex'\n",
      "'defamation,hate,offensive Fake.tex'\n",
      "'defamation,hate,offensive Hate.tex'\n",
      "'defamation,hate,offensive Offensive.tex'\n",
      " \u001b[01;34memoji2vec\u001b[0m/\n",
      "'fake,offensive Defamation.tex'\n",
      "'fake,offensive Fake.tex'\n",
      "'fake,offensive Hate.tex'\n",
      "'fake,offensive Offensive.tex'\n",
      "'Final Evaluation.ipynb'\n",
      "'Final Pipeline (1).ipynb'\n",
      "'Final Pipeline - Do not Delete.ipynb'\n",
      "'Final Pipeline.ipynb'\n",
      "'hate Defamation.tex'\n",
      "'hate Fake.tex'\n",
      "'hate Hate.tex'\n",
      "'hate,offensive Defamation.tex'\n",
      "'hate,offensive Fake.tex'\n",
      "'hate,offensive Hate.tex'\n",
      "'hate,offensive Offensive.tex'\n",
      "'hate Offensive.tex'\n",
      " \u001b[01;34mModel\u001b[0m/\n"
     ]
    }
   ],
   "source": [
    "ls"
   ]
  },
  {
   "cell_type": "code",
   "execution_count": 3,
   "metadata": {
    "colab": {
     "base_uri": "https://localhost:8080/"
    },
    "executionInfo": {
     "elapsed": 4206,
     "status": "ok",
     "timestamp": 1612536754770,
     "user": {
      "displayName": "Mohit Bhardwaj",
      "photoUrl": "",
      "userId": "14164170441677042335"
     },
     "user_tz": -330
    },
    "id": "QgRaDaGSYD1w",
    "outputId": "c97a1972-bec2-4c5c-c6e7-9cfd57b367aa"
   },
   "outputs": [
    {
     "name": "stdout",
     "output_type": "stream",
     "text": [
      "Thu Jun 17 20:40:41 2021       \n",
      "+-----------------------------------------------------------------------------+\n",
      "| NVIDIA-SMI 455.45.01    Driver Version: 455.45.01    CUDA Version: 11.1     |\n",
      "|-------------------------------+----------------------+----------------------+\n",
      "| GPU  Name        Persistence-M| Bus-Id        Disp.A | Volatile Uncorr. ECC |\n",
      "| Fan  Temp  Perf  Pwr:Usage/Cap|         Memory-Usage | GPU-Util  Compute M. |\n",
      "|                               |                      |               MIG M. |\n",
      "|===============================+======================+======================|\n",
      "|   0  Tesla V100-PCIE...  On   | 00000000:5E:00.0 Off |                    0 |\n",
      "| N/A   39C    P0    41W / 250W |   1425MiB / 16160MiB |      0%      Default |\n",
      "|                               |                      |                  N/A |\n",
      "+-------------------------------+----------------------+----------------------+\n",
      "                                                                               \n",
      "+-----------------------------------------------------------------------------+\n",
      "| Processes:                                                                  |\n",
      "|  GPU   GI   CI        PID   Type   Process name                  GPU Memory |\n",
      "|        ID   ID                                                   Usage      |\n",
      "|=============================================================================|\n",
      "|    0   N/A  N/A     11826      C   ...9015/anaconda3/bin/python     1421MiB |\n",
      "+-----------------------------------------------------------------------------+\n"
     ]
    }
   ],
   "source": [
    "!nvidia-smi"
   ]
  },
  {
   "cell_type": "markdown",
   "metadata": {
    "id": "yc4utxVYYD1w"
   },
   "source": [
    "#### Installing Required Libraries"
   ]
  },
  {
   "cell_type": "code",
   "execution_count": 4,
   "metadata": {},
   "outputs": [],
   "source": [
    "# !git clone https://github.com/uclnlp/emoji2vec  #for emoji2vec file"
   ]
  },
  {
   "cell_type": "code",
   "execution_count": 5,
   "metadata": {},
   "outputs": [],
   "source": [
    "# pip install fasttext"
   ]
  },
  {
   "cell_type": "code",
   "execution_count": 6,
   "metadata": {},
   "outputs": [],
   "source": [
    "# pip install gensim"
   ]
  },
  {
   "cell_type": "code",
   "execution_count": 7,
   "metadata": {
    "executionInfo": {
     "elapsed": 4650,
     "status": "ok",
     "timestamp": 1612536755455,
     "user": {
      "displayName": "Mohit Bhardwaj",
      "photoUrl": "",
      "userId": "14164170441677042335"
     },
     "user_tz": -330
    },
    "id": "tv2gb5aGYD1x"
   },
   "outputs": [],
   "source": [
    "# pip install transformers -q"
   ]
  },
  {
   "cell_type": "code",
   "execution_count": 8,
   "metadata": {
    "executionInfo": {
     "elapsed": 7310,
     "status": "ok",
     "timestamp": 1612536758223,
     "user": {
      "displayName": "Mohit Bhardwaj",
      "photoUrl": "",
      "userId": "14164170441677042335"
     },
     "user_tz": -330
    },
    "id": "T23dAQ0yYD1x"
   },
   "outputs": [],
   "source": [
    "# pip install sentencepiece -q"
   ]
  },
  {
   "cell_type": "markdown",
   "metadata": {
    "id": "hLXYicEGYD1x"
   },
   "source": [
    "<h4> Importing Libraries"
   ]
  },
  {
   "cell_type": "code",
   "execution_count": 9,
   "metadata": {
    "executionInfo": {
     "elapsed": 5686,
     "status": "ok",
     "timestamp": 1612536758225,
     "user": {
      "displayName": "Mohit Bhardwaj",
      "photoUrl": "",
      "userId": "14164170441677042335"
     },
     "user_tz": -330
    },
    "id": "Fa7ygVVAYD1y"
   },
   "outputs": [],
   "source": [
    "### General\n",
    "import re\n",
    "import copy\n",
    "import string\n",
    "import pickle\n",
    "import numpy as np\n",
    "import pandas as pd\n",
    "import fasttext\n",
    "import matplotlib.pyplot as plt\n",
    "from tqdm import tqdm\n",
    "import warnings\n",
    "\n",
    "### Sklearn\n",
    "import joblib\n",
    "from sklearn import preprocessing\n",
    "from sklearn.manifold import TSNE\n",
    "from sklearn.metrics import accuracy_score,f1_score\n",
    "from sklearn.metrics import classification_report\n",
    "from sklearn.model_selection import GridSearchCV\n",
    "from sklearn.model_selection import train_test_split\n",
    "\n",
    "### Torch\n",
    "import torch\n",
    "import torch.nn as nn\n",
    "import torch.nn.functional as F\n",
    "from torch import optim\n",
    "from torchsummary import summary\n",
    "from torch.utils.data import Dataset, DataLoader, WeightedRandomSampler\n",
    "\n",
    "### Transformers\n",
    "from transformers import AutoTokenizer, AutoModel, get_linear_schedule_with_warmup\n",
    "\n",
    "### For Emojis and Hashtags\n",
    "import emoji\n",
    "from inltk.inltk import tokenize\n",
    "from emot.emo_unicode import UNICODE_EMO, EMOTICONS\n",
    "from ekphrasis.classes.segmenter import Segmenter\n",
    "\n",
    "\n",
    "import gensim.models as gsm\n",
    "import gensim\n",
    "from gensim.scripts.glove2word2vec import glove2word2vec\n",
    "from gensim.models import KeyedVectors\n",
    "\n",
    "\n",
    "### ASL\n",
    "# from ASL.src.loss_functions.losses import AsymmetricLoss"
   ]
  },
  {
   "cell_type": "code",
   "execution_count": 10,
   "metadata": {},
   "outputs": [],
   "source": [
    "MAX_LENGTH = 128\n",
    "\n",
    "tokenizer   = AutoTokenizer.from_pretrained('monsoon-nlp/hindi-bert')\n",
    "bert_model  = AutoModel.from_pretrained('monsoon-nlp/hindi-bert', output_hidden_states = True, output_attentions = True)\n"
   ]
  },
  {
   "cell_type": "code",
   "execution_count": 11,
   "metadata": {},
   "outputs": [
    {
     "name": "stderr",
     "output_type": "stream",
     "text": [
      "Warning : `load_model` does not return WordVectorModel or SupervisedModel any more, but a `FastText` object which is very similar.\n"
     ]
    }
   ],
   "source": [
    "ft_model = fasttext.load_model('Data/IndicFT/indicnlp.ft.hi.300.bin')"
   ]
  },
  {
   "cell_type": "code",
   "execution_count": 12,
   "metadata": {},
   "outputs": [
    {
     "name": "stdout",
     "output_type": "stream",
     "text": [
      "Reading twitter - 1grams ...\n",
      "Reading twitter - 2grams ...\n"
     ]
    }
   ],
   "source": [
    "seg_tw = Segmenter(corpus = \"twitter\")"
   ]
  },
  {
   "cell_type": "markdown",
   "metadata": {
    "id": "VwCd_QU2YD1y"
   },
   "source": [
    "#### Configuration Class\n"
   ]
  },
  {
   "cell_type": "code",
   "execution_count": 13,
   "metadata": {
    "colab": {
     "base_uri": "https://localhost:8080/"
    },
    "executionInfo": {
     "elapsed": 6037,
     "status": "ok",
     "timestamp": 1612536982826,
     "user": {
      "displayName": "Mohit Bhardwaj",
      "photoUrl": "",
      "userId": "14164170441677042335"
     },
     "user_tz": -330
    },
    "id": "GrvaW49RYD1y",
    "outputId": "4172e089-0e30-4b60-822d-5409fc6070f1"
   },
   "outputs": [],
   "source": [
    "class Config1:\n",
    "    def __init__(self):\n",
    "        super(Config1, self).__init__()\n",
    "\n",
    "        self.SEED       = 42\n",
    "#         self.MODEL_PATH = 'Models/IndicBert'#'ai4bharat/indic-bert'\n",
    "#         self.MODEL_PATH = 'Models/IndicBert'\n",
    "#         self.MODEL_PATH = 'monsoon-nlp/hindi-bert'\n",
    "        self.MODEL_PATH = 'Data/Pretrained/HindiBERT/Checkpoint 2500/'\n",
    "\n",
    "\n",
    "\n",
    "        # data\n",
    "        self.PERCENTAGE_DATA  = 10\n",
    "        self.TOKENIZER        = AutoTokenizer.from_pretrained(self.MODEL_PATH)\n",
    "        self.MAX_LENGTH       = 128\n",
    "        self.BATCH_SIZE       = 16\n",
    "        self.VALIDATION_SPLIT = 0.10\n",
    "        self.PREPROCESS_INPUT = False\n",
    "\n",
    "        # Coarse-grained or Fine-Grained\n",
    "        self.NUM_LABELS           = 4                                        ### 1:CG   2:Combine    4:FG\n",
    "        self.COARSE_GRAINED       = True if self.NUM_LABELS ==1 else False \n",
    "        self.COARSE_GRAINED_CLASS = 'Hostile'                                ### 'Fake' 'Defamation' 'Hate' or 'Offensive' \n",
    "        \n",
    "        # Combining Hostile Dimensions\n",
    "        self.COMBINE_HATE_OFFENSIVE  = False     #True if self.NUM_LABELS ==2 else False\n",
    "        self.COMBINE_DEFAMATION_FAKE = False     #if self.NUM_LABELS ==2 else False\n",
    "\n",
    "\n",
    "        ###Features to include\n",
    "        self.SUPERVISED_LEXICON_ATTENTION = True\n",
    "        self.HOSTILITY_LEXICON            = True\n",
    "        self.LEXICON_AVERAGE              = False\n",
    "        self.EMOJI_INFO                   = True\n",
    "        self.EMBED_EMOJI                  = False    ### Doesnot do preprocessing, just adds emoji text into the post\n",
    "        self.HASHTAG_INFO                 = True\n",
    "        self.EMOJI_FLAG                   = \" with Emoji\"       ### \"\" or \" without Emoji\" or \" with Emoji\" --> space at beginning\n",
    "        self.TOKENIZER_FLAG               = \"Sentence Piece\"\n",
    "        self.PREPROCESSING_FLAG           = \"Raw Text\"\n",
    "        \n",
    "        ### Lexicon Parameters\n",
    "        self.PAD_LENGTH = 128   ### Makes Sequence Length, Lexicon Vector, and gold attention vector \n",
    "        \n",
    "\n",
    "        # model\n",
    "        self.DEVICE = torch.device('cuda' if torch.cuda.is_available() else 'cpu')\n",
    "        self.NUMBER_OF_BERT_LAYERS = 1\n",
    "        self.FULL_FINETUNING = True\n",
    "        self.LR = 0.001\n",
    "        self.OPTIMIZER = 'AdamW'\n",
    "        self.OUTPUT_HIDDEN_STATE=True\n",
    "        self.OUTPUT_ATTENTIONS = True\n",
    "        self.EPOCHS = 50\n",
    "\n",
    "        \n",
    "        ### Loss Hyperparameters\n",
    "        self.DEFAMATION_LOSS_LAMBDA = 1.0\n",
    "        self.FAKE_LOSS_LAMBDA       = 1.0\n",
    "        self.HATE_LOSS_LAMBDA       = 1.0\n",
    "        self.OFFENSIVE_LOSS_LAMBDA  = 1.0\n",
    "\n",
    "        \n",
    "        ### Load Checkpoint\n",
    "        self.SAVE_BEST_ONLY   = True\n",
    "        self.LOAD_CHECKPOINT  = False\n",
    "        self.FINE_TUNE_COARSE = False\n",
    "        self.CHECKPOINT_PATH  = \"\"\n",
    "        self.MODEL_FOLDER     = \"Model/\"\n",
    "\n",
    "        ### Visualization\n",
    "        self.VISUALIZE_EMBEDDINGS = False\n",
    "        self.PLOT_LOSS = True\n",
    "\n",
    "        ### Evaluation \n",
    "        self.THRESHOLD = 0.5\n",
    "        self.SERVER    = True\n",
    "\n",
    "config = Config1()\n",
    "\n",
    "warnings.filterwarnings(\"ignore\")\n",
    "# warnings.filterwarnings(\"ignore\", category=ResourceWarning)\n",
    "# warnings.filterwarnings(\"ignore\", category=DeprecationWarning)"
   ]
  },
  {
   "cell_type": "markdown",
   "metadata": {},
   "source": [
    "<h3> Helper Functions"
   ]
  },
  {
   "cell_type": "code",
   "execution_count": 14,
   "metadata": {},
   "outputs": [],
   "source": [
    "def masked_softmax(vec, mask, dim=0, epsilon=1e-5):\n",
    "    exps = torch.exp(vec)\n",
    "    masked_exps = exps * mask\n",
    "    masked_sums = masked_exps.sum(dim, keepdim=True) + epsilon\n",
    "    return (masked_exps/masked_sums)"
   ]
  },
  {
   "cell_type": "code",
   "execution_count": 15,
   "metadata": {},
   "outputs": [],
   "source": [
    "def attention_mask(vec, mask, dim=1, epsilon=1e-5):\n",
    "    masked = vec * mask\n",
    "    masked_sums = masked.sum(dim, keepdim=True) + epsilon\n",
    "    return (masked/masked_sums)"
   ]
  },
  {
   "cell_type": "code",
   "execution_count": 16,
   "metadata": {},
   "outputs": [],
   "source": [
    "def weighted_avg(a, b):\n",
    "    b = torch.unsqueeze(b,2)\n",
    "    a = a.permute(0,2,1)\n",
    "    c = torch.bmm(a,b)\n",
    "    c = c.squeeze(2)\n",
    "    return c"
   ]
  },
  {
   "cell_type": "markdown",
   "metadata": {
    "id": "WAPkyh2tYqw0"
   },
   "source": [
    "<h3>Dataset Class\n"
   ]
  },
  {
   "cell_type": "code",
   "execution_count": 94,
   "metadata": {
    "executionInfo": {
     "elapsed": 3617,
     "status": "ok",
     "timestamp": 1612536982835,
     "user": {
      "displayName": "Mohit Bhardwaj",
      "photoUrl": "",
      "userId": "14164170441677042335"
     },
     "user_tz": -330
    },
    "id": "KXQcR-H3Yqw1"
   },
   "outputs": [],
   "source": [
    "class HindiHostilityDataset(Dataset):\n",
    "    def __init__(self, dataset_path):\n",
    "        super(HindiHostilityDataset, self).__init__()\n",
    "\n",
    "        df          = pickle.load(open(dataset_path, 'rb'))\n",
    "        \n",
    "        if(config.COARSE_GRAINED == False and config.SERVER == True):\n",
    "            df = df[df['Hostile']==1]\n",
    "            df = df.reset_index(drop=True)       \n",
    "        \n",
    "        num_samples = int(config.PERCENTAGE_DATA*len(df)/100)\n",
    "        df          = df.iloc[:num_samples,:] \n",
    "        \n",
    "        print(\"Taking \",num_samples,\" only\")\n",
    "        if(config.PREPROCESS_INPUT):\n",
    "            df = preprocess(df)\n",
    "\n",
    "           \n",
    "        self.texts             = get_texts(df)\n",
    "        self.processed_texts   = get_processed_texts(df)\n",
    "        self.tokenized_texts   = get_tokenized_texts(df)\n",
    "        self.labels            = get_labels(df)\n",
    "        self.gold_attn_vectors = get_gold_attention_vectors(df) ### Value at an index is a list four 50 dim vectors\n",
    "        self.lexicon_vectors   = get_lexicons(df)               ### A vector of 50*4 size or 4 size vector\n",
    "        self.lexicon_masks     = get_lexicon_masks(df)          ### A vector of size 128\n",
    "        self.mha_masks         = get_mha_masks(df)\n",
    "        self.emoji_vectors     = get_emoji_vectors(df)          ### A 300 dimension mean vector\n",
    "        self.hashtag_vectors   = get_hashtag_vectors(df)        ### A 300 dimension mean vector\n",
    "\n",
    "        self.max_length        = config.MAX_LENGTH\n",
    "        self.tokenizer         = config.TOKENIZER\n",
    "        \n",
    "\n",
    "    def __len__(self):\n",
    "        return len(self.texts)\n",
    "    \n",
    "    def __getitem__(self, index):\n",
    "\n",
    "        tokenized_conts = self.tokenizer.encode_plus( self.texts[index], \n",
    "                                                      max_length=self.max_length,\n",
    "                                                      padding='max_length',\n",
    "                                                      truncation=True,\n",
    "                                                      return_attention_mask=True,\n",
    "                                                      return_token_type_ids=False,\n",
    "                                                      return_tensors='pt')\n",
    "        \n",
    "        post_input_ids       = tokenized_conts['input_ids'].squeeze()\n",
    "        post_attention_masks = tokenized_conts['attention_mask'].squeeze()\n",
    "\n",
    "#         print(type(post_attention_masks))\n",
    "#         print(type(post_attention_masks[0]))\n",
    "\n",
    "        return { 'posts': {\n",
    "                          'text': self.texts[index],\n",
    "                          'processed_text'   : self.processed_texts[index],\n",
    "                          'tokenized_text'   : self.tokenized_texts[index],\n",
    "                          'lexicon_vector'   : torch.Tensor(self.lexicon_vectors[index]),\n",
    "                          'gold_attn_vectors': torch.Tensor(self.gold_attn_vectors[index]),\n",
    "                          'lexicon_mask'     : torch.Tensor(self.lexicon_masks[index]).type(torch.ByteTensor),\n",
    "                          'mha_mask'         : torch.Tensor(self.mha_masks[index]).type(torch.ByteTensor),\n",
    "                          'emoji_vector'     : torch.Tensor(self.emoji_vectors[index]),\n",
    "                          'hashtag_vector'   : torch.Tensor(self.hashtag_vectors[index]),\n",
    "                          'input_ids'        : post_input_ids,\n",
    "                          'attention_masks'  : post_attention_masks\n",
    "                        },\n",
    "                \n",
    "                 'labels': torch.Tensor(self.labels[index])#.float()\n",
    "                }\n"
   ]
  },
  {
   "cell_type": "code",
   "execution_count": 95,
   "metadata": {},
   "outputs": [],
   "source": [
    "### Hyper parameters: \n",
    "\n",
    "pad_length = 128"
   ]
  },
  {
   "cell_type": "markdown",
   "metadata": {},
   "source": [
    "<h3> Data Preparation"
   ]
  },
  {
   "cell_type": "code",
   "execution_count": 96,
   "metadata": {},
   "outputs": [],
   "source": [
    "def preprocess_text(text):\n",
    "\n",
    "\n",
    "    org_text         = text\n",
    "\n",
    "\n",
    "    text = emoji.demojize(text, delimiters=(\"\" , \" \"))\n",
    "\n",
    "    tokenized = tokenizer.encode_plus(text, \n",
    "                                      max_length = pad_length,\n",
    "                                      padding    = 'max_length',\n",
    "                                      truncation = True,\n",
    "                                      return_attention_mask = True,\n",
    "                                      return_token_type_ids = False,\n",
    "                                      return_tensors        = 'pt')\n",
    "\n",
    "    input_ids       = tokenized['input_ids']\n",
    "    attention_masks = tokenized['attention_mask']\n",
    "\n",
    "\n",
    "    text = tokenizer.convert_ids_to_tokens(input_ids[0])\n",
    "    text = ' '.join(text)\n",
    "\n",
    "    print(\"Input IDs Shape:       \",input_ids.shape)\n",
    "    print(\"Attention Mask Shape:  \",attention_masks.shape)\n",
    "\n",
    "\n",
    "    average_lexicon = [0.,0.,0.,0.,0.]\n",
    "    lexicon_vector  = []\n",
    "    lexicon_mask    = []\n",
    "    hostility_dict  = pickle.load(open(\"Data/Hostility Dict/Hostility Dict Raw Text with Emoji.pkl\", 'rb'))\n",
    "\n",
    "    text = text.split()\n",
    "    for word in text:\n",
    "        if(hostility_dict.get(word)!=None):\n",
    "            if(sum(hostility_dict[word])!=0):\n",
    "    #             print(\"Accepted: \",word)\n",
    "                lexicon_mask.append(1)\n",
    "                lexicon_vector.append(hostility_dict[word])\n",
    "                average_lexicon = [i+j for i,j in zip(average_lexicon, hostility_dict[word])]\n",
    "            else:\n",
    "    #             print(\"Rejected: \",word)\n",
    "                lexicon_vector.append([0.]*5)\n",
    "                lexicon_mask.append(0)\n",
    "\n",
    "        else:\n",
    "    #         print(\"Rejected: \",word)\n",
    "            lexicon_vector.append([0.]*5)\n",
    "            lexicon_mask.append(0)\n",
    "\n",
    "\n",
    "    length = int(torch.sum(attention_masks))\n",
    "    average_lexicon = [i/length for i in average_lexicon]\n",
    "\n",
    "\n",
    "    def_gold_attn    = []\n",
    "    fake_gold_attn   = []\n",
    "    hate_gold_attn   = []\n",
    "    off_gold_attn    = []\n",
    "    gold_attn_vector = []\n",
    "\n",
    "    for j in lexicon_vector:\n",
    "        def_gold_attn.append(j[0])\n",
    "        fake_gold_attn.append(j[1])\n",
    "        hate_gold_attn.append(j[2])\n",
    "        off_gold_attn.append(j[3])  \n",
    "\n",
    "\n",
    "    def_gold_attn  = masked_softmax(torch.tensor(def_gold_attn), torch.tensor(lexicon_mask))\n",
    "    fake_gold_attn = masked_softmax(torch.tensor(fake_gold_attn), torch.tensor(lexicon_mask))\n",
    "    hate_gold_attn = masked_softmax(torch.tensor(hate_gold_attn), torch.tensor(lexicon_mask))\n",
    "    off_gold_attn  = masked_softmax(torch.tensor(off_gold_attn), torch.tensor(lexicon_mask))\n",
    "\n",
    "    gold_attn_vector.append(np.asarray(def_gold_attn))\n",
    "    gold_attn_vector.append(np.asarray(fake_gold_attn))\n",
    "    gold_attn_vector.append(np.asarray(hate_gold_attn))\n",
    "    gold_attn_vector.append(np.asarray(off_gold_attn))\n",
    "\n",
    "    gold_attn_vector = torch.Tensor(gold_attn_vector)\n",
    "    \n",
    "\n",
    "    lexicon_vector  = torch.Tensor(np.asarray(lexicon_vector))\n",
    "    average_lexicon = torch.Tensor(np.asarray(average_lexicon))\n",
    "    lexicon_mask    = torch.Tensor(np.asarray(lexicon_mask)).type(torch.ByteTensor)\n",
    "    mha_mask        = 1 - lexicon_mask\n",
    "\n",
    "    print(\"Lexicon Vector Shape:  \", lexicon_vector.shape)\n",
    "    print(\"Lexicon Vec Avg Shape: \", average_lexicon.shape)\n",
    "    print(\"Lexicon Mask Shape:    \", lexicon_mask.shape)\n",
    "    print(\"MHA Mask Shape:        \", mha_mask.shape)\n",
    "\n",
    "    print(\"Gold Attn Shape:       \", gold_attn_vector.shape)\n",
    "\n",
    "\n",
    "\n",
    "    avg_hashtag_vectors = []\n",
    "    sum_hashtag_vectors = []\n",
    "\n",
    "    hashtag_text = org_text\n",
    "\n",
    "    hashtag_text = ' '.join([seg_tw.segment(word[1:]) if word[0] == '#' else \"\" for word in hashtag_text.split()])\n",
    "\n",
    "    hashtag_text = hashtag_text.split()\n",
    "\n",
    "    if(len(hashtag_text)==0):          \n",
    "        avg_hashtag_vector = ft_model['#']\n",
    "        sum_hashtag_vector = ft_model['#']\n",
    "\n",
    "    else:\n",
    "        sum_hashtag_vector = np.zeros(300)\n",
    "\n",
    "        for hashtag in hashtag_text:\n",
    "            sum_hashtag_vector += ft_model[hashtag]\n",
    "\n",
    "        avg_hashtag_vector = [i/len(hashtag_text) for i in sum_hashtag_vector]\n",
    "\n",
    "    avg_hashtag_vector = torch.Tensor(avg_hashtag_vector)\n",
    "    sum_hashtag_vector = torch.Tensor(sum_hashtag_vector)\n",
    "\n",
    "\n",
    "    print(\"Avg Hashtag Shape:     \",avg_hashtag_vector.shape)\n",
    "    print(\"Sum Hashtag Shape:     \",sum_hashtag_vector.shape)\n",
    "\n",
    "\n",
    "    ### For Emojis\n",
    "    emoji_text   = org_text \n",
    "\n",
    "    avg_emoji_vectors = []\n",
    "    sum_emoji_vectors = []\n",
    "\n",
    "    emoji_text = ''.join(emo for emo in emoji_text if emo in UNICODE_EMO)\n",
    "    avg_emoji_vector = np.zeros(300)\n",
    "    sum_emoji_vector = np.zeros(300)\n",
    "\n",
    "    if(len(emoji_text)!=0):\n",
    "        for emo in emoji_text:\n",
    "            try:\n",
    "                sum_emoji_vector += e2v[emo]\n",
    "            except:\n",
    "                sum_emoji_vector += np.zeros(300)\n",
    "        avg_emoji_vector = sum_emoji_vector/len(emoji_text)\n",
    "\n",
    "    avg_emoji_vector = torch.Tensor(avg_emoji_vector)\n",
    "    sum_emoji_vector = torch.Tensor(sum_emoji_vector)\n",
    "\n",
    "    print(\"Avg Emoji Shape:       \",avg_emoji_vector.shape)\n",
    "    print(\"Sum Emoji Shape:       \",sum_emoji_vector.shape)\n",
    "    \n",
    "    tokenized_text = ' '.join(text)\n",
    "\n",
    "    return tokenized_text,input_ids, attention_masks, lexicon_vector, average_lexicon, lexicon_mask, mha_mask,\\\n",
    "           gold_attn_vector, avg_hashtag_vector, sum_hashtag_vector, avg_emoji_vector, sum_emoji_vector\n"
   ]
  },
  {
   "cell_type": "markdown",
   "metadata": {},
   "source": [
    "<h3> Model"
   ]
  },
  {
   "cell_type": "code",
   "execution_count": 97,
   "metadata": {},
   "outputs": [],
   "source": [
    "class BaseModel2(nn.Module):\n",
    "    def __init__(self):\n",
    "        super(BaseModel2, self).__init__()\n",
    "    \n",
    "        ### Main stem ==> IndicBERT + LSTM +Attn (128) + Lexicon(LSTM) (32) + Emoji (300--> 32) ==> 192\n",
    "        ### Predicted Gold Attentions: 50 each ==> 200\n",
    "        ### Concat ==> 392 --> 128 --> 4\n",
    "    \n",
    "        self.bert_model          = AutoModel.from_pretrained(config.MODEL_PATH, output_hidden_states = config.OUTPUT_HIDDEN_STATE, output_attentions = config.OUTPUT_ATTENTIONS)\n",
    "        self.dropout             = nn.Dropout(0.25)\n",
    "              \n",
    "#         self.complete_mha = nn.MultiheadAttention(embed_dim = 50, num_heads=5)\n",
    "        self.complete_mha = nn.MultiheadAttention(embed_dim = 128, num_heads=4)\n",
    "\n",
    "\n",
    "        self.lstm_lexicon                  = nn.LSTM(input_size = 4, hidden_size = 32, batch_first=True, bidirectional=True )\n",
    "\n",
    "        ## Gave poor results with Lex Encoder\n",
    "        ##self.lex_encoder_layer     = nn.TransformerEncoderLayer(d_model=4, nhead=4, dropout=0.25)\n",
    "        ##self.lex_encoder           = nn.TransformerEncoder(self.lex_encoder_layer, num_layers=6) ### Seq, Batch, Embedding\n",
    "\n",
    "        self.linear_lexicon                = nn.Linear(64, 32)\n",
    "        self.linear_emoji                  = nn.Linear(300, 32)\n",
    "        self.linear_hashtag                = nn.Linear(300, 32)\n",
    "\n",
    "        \n",
    "        self.concat_fc1                    = nn.Linear(864, 128)\n",
    "        self.concat_fc2                    = nn.Linear(128, config.NUM_LABELS)\n",
    "\n",
    "\n",
    "\n",
    "    def forward(self, input_ids, attention_masks, gold_attn_vectors=None, lexicon_vector=None,lexicon_masks =None, mha_masks=None, emoji_vector=None, hashtag_vector=None):\n",
    "        \n",
    "        output_embeddings, hidden_states, attention = self.bert_model(input_ids = input_ids, attention_mask = attention_masks).values()\n",
    "\n",
    "        bert_attn = attention[-1]                      ### [16,4,128,128]\n",
    "        \n",
    "        d_bert_attn = bert_attn[:,0,:config.PAD_LENGTH,:config.PAD_LENGTH]\n",
    "        f_bert_attn = bert_attn[:,1,:config.PAD_LENGTH,:config.PAD_LENGTH]\n",
    "        h_bert_attn = bert_attn[:,2,:config.PAD_LENGTH,:config.PAD_LENGTH]\n",
    "        o_bert_attn = bert_attn[:,3,:config.PAD_LENGTH,:config.PAD_LENGTH]\n",
    "\n",
    "        d_bert_attn = torch.mean(d_bert_attn, 1)      ### [16,50]\n",
    "        f_bert_attn = torch.mean(f_bert_attn, 1)      ### [16,50]\n",
    "        h_bert_attn = torch.mean(h_bert_attn, 1)      ### [16,50]\n",
    "        o_bert_attn = torch.mean(o_bert_attn, 1)      ### [16,50]\n",
    "        \n",
    "        d_bert_attn = attention_mask(d_bert_attn, lexicon_masks)\n",
    "        f_bert_attn = attention_mask(f_bert_attn, lexicon_masks)\n",
    "        h_bert_attn = attention_mask(h_bert_attn, lexicon_masks)\n",
    "        o_bert_attn = attention_mask(o_bert_attn, lexicon_masks)\n",
    "\n",
    "\n",
    "        ### original Input     --> N S E --> 16 128 768\n",
    "        ### Transformer Input  --> S N E --> 128 16 768\n",
    "        ### Transformer Output --> S N E --> 128 16 768\n",
    "        \n",
    "        \n",
    "        concat_attn       = torch.cat((d_bert_attn, f_bert_attn, h_bert_attn, o_bert_attn),0)\n",
    "        concat_attn       = concat_attn.reshape(4, len(input_ids), config.PAD_LENGTH)\n",
    "        concat_attn       = self.complete_mha(concat_attn, concat_attn, concat_attn)\n",
    "        concat_attn       = concat_attn[0].permute(1,0,2)\n",
    "        concat_attn       = torch.flatten(concat_attn, start_dim=1)                ### [16,512]\n",
    "        \n",
    "#         print(concat_attn.shape)\n",
    "        \n",
    "        ### Main Stem --> Augmenting Lexicon Vector + Emoji Vector\n",
    "\n",
    "        output_embeddings = torch.mean(output_embeddings, 1)\n",
    "#         output_embeddings = output_embeddings[:,0,:] ### CLS EMbedding\n",
    "#         print(output_embeddings.shape)\n",
    "        \n",
    "        lexicon_vector = lexicon_vector[:, :, :-1]\n",
    "        lexicon_all_hidden_states, (lexicon_last_hidden_state, lexicon_cell_state) = self.lstm_lexicon(lexicon_vector) # [16, 50, 64]\n",
    "        lexicon_sum_hidden_states = torch.sum(lexicon_all_hidden_states, 1)  ### [16,64]\n",
    "        lexicon_drop = self.dropout(lexicon_sum_hidden_states)               ### [16,64]\n",
    "        lexicon_linear = self.linear_lexicon(lexicon_drop)                   ### [16,32]\n",
    "   \n",
    "    \n",
    "#         lex_op = self.lex_encoder(lexicon_vector.permute(1,0,2))\n",
    "#         lex_op = lex_op.permute(1,0,2)\n",
    "#         lex_op = torch.flatten(lex_op, 1)\n",
    "#         lex_op = self.dropout(lex_op)\n",
    "\n",
    "        \n",
    "#         print(lex_op.shape)\n",
    "        \n",
    "        emoji_vector      = self.linear_emoji(emoji_vector)                  ### [16,32]  (300 --> 32)\n",
    "        hashtag_vector    = self.linear_hashtag(hashtag_vector)              ### [16,32]  (300 --> 32)\n",
    "\n",
    "        features           = torch.cat((lexicon_linear, emoji_vector,hashtag_vector),dim=1)  ### [16,96]\n",
    "        features_drop      = self.dropout(features)        \n",
    "\n",
    "        concat            = torch.cat((output_embeddings, features_drop ,concat_attn),dim=1) ### [main_stem, d_out,  f_out,  h_out,  o_out]\n",
    "#         print(\"Concat Attention Shape: \",concat.shape)\n",
    "\n",
    "        model_outputs     = self.concat_fc1(concat)\n",
    "        model_outputs     = self.concat_fc2(model_outputs)\n",
    "\n",
    "        \n",
    "        \n",
    "        ### Supervised Attention Loss\n",
    "        model_attentions    = [[gold_attn_vectors[:,0,:], d_bert_attn],\n",
    "                               [gold_attn_vectors[:,1,:], f_bert_attn],\n",
    "                               [gold_attn_vectors[:,2,:], h_bert_attn],\n",
    "                               [gold_attn_vectors[:,3,:], o_bert_attn]]\n",
    "\n",
    "\n",
    "        return model_outputs, model_attentions\n",
    "        \n",
    "\n"
   ]
  },
  {
   "cell_type": "code",
   "execution_count": 104,
   "metadata": {},
   "outputs": [],
   "source": [
    "model = BaseModel2()\n",
    "# model.to(config.DEVICE)\n",
    "\n",
    "checkpoint_path  = \"Model/SLATE + KL-  F1 - 0.6632663603397878 Epoch 17.pt\"\n",
    "# checkpoint_path  = \"Model/SLATE + ASL -  F1 - 0.6475900694781694 Epoch 7.pt\"\n",
    "# checkpoint_path = \"Model/SLATE + MSE -  F1 - 0.6463065255964119 Epoch 5.pt\"\n",
    "# checkpoint_path = \"Model/SLATE + No Attn Tuning  -  F1 - 0.6431428216177454 Epoch 8.pt\"\n",
    "\n",
    "\n",
    "model_index = 0\n",
    "model_names = ['SLATE with KL Divergence Loss', \n",
    "               'SLATE with Asymmetric Loss',\n",
    "               'SLATE with MSE Loss',\n",
    "               'SLATE without Supervised Attention']\n",
    "\n",
    "model_name = model_names[model_index]\n",
    "\n",
    "\n",
    "checkpoint      = torch.load(checkpoint_path)"
   ]
  },
  {
   "cell_type": "code",
   "execution_count": 105,
   "metadata": {},
   "outputs": [
    {
     "name": "stdout",
     "output_type": "stream",
     "text": [
      "\n",
      "\n",
      "------------------- Loading Checkpoint-----------------------\n",
      "\n",
      "\n"
     ]
    }
   ],
   "source": [
    "print(\"\\n\\n------------------- Loading Checkpoint-----------------------\\n\\n\")\n",
    "warnings.filterwarnings(\"ignore\")\n",
    "model.load_state_dict(checkpoint['state_dict'])\n",
    "# optimizer.load_state_dict(checkpoint['optimizer'])\n",
    "# scheduler.load_state_dict(checkpoint['scheduler'])\n",
    "max_val_f1_score = checkpoint['val_f1_score']\n",
    "warnings.filterwarnings(\"default\")"
   ]
  },
  {
   "cell_type": "code",
   "execution_count": 114,
   "metadata": {},
   "outputs": [
    {
     "name": "stdout",
     "output_type": "stream",
     "text": [
      "Input IDs Shape:        torch.Size([1, 128])\n",
      "Attention Mask Shape:   torch.Size([1, 128])\n",
      "Lexicon Vector Shape:   torch.Size([128, 5])\n",
      "Lexicon Vec Avg Shape:  torch.Size([5])\n",
      "Lexicon Mask Shape:     torch.Size([128])\n",
      "MHA Mask Shape:         torch.Size([128])\n",
      "Gold Attn Shape:        torch.Size([4, 128])\n",
      "Avg Hashtag Shape:      torch.Size([300])\n",
      "Sum Hashtag Shape:      torch.Size([300])\n",
      "Avg Emoji Shape:        torch.Size([300])\n",
      "Sum Emoji Shape:        torch.Size([300])\n"
     ]
    },
    {
     "name": "stderr",
     "output_type": "stream",
     "text": [
      "<ipython-input-96-a25dff43b33a>:31: ResourceWarning: unclosed file <_io.BufferedReader name='Data/Hostility Dict/Hostility Dict Raw Text with Emoji.pkl'>\n",
      "  hostility_dict  = pickle.load(open(\"Data/Hostility Dict/Hostility Dict Raw Text with Emoji.pkl\", 'rb'))\n",
      "ResourceWarning: Enable tracemalloc to get the object allocation traceback\n"
     ]
    }
   ],
   "source": [
    "# text     = \"@BasudebaTripat4: @Rajanspsingh1 अच्छा किया साले का सर फोड़ दिया,, गर्दन तोड़ देते तो और भी अच्छा होता साले को पता चल गया होगा हिंदुस्ता…\"\n",
    "\n",
    "# text  = \"मेरे देश के हिन्दु बहुत निराले है। कुछ तो पक्के राम भक्त है और कुछ बाबर के साले है \\\n",
    "# \\\n",
    "# 🙏 जय श्री राम 🙏\"\n",
    "\n",
    "\n",
    "\n",
    "### Offensivve\n",
    "# text = \"पत्थर तो कश्मीर में भी फैंके जाते थे लेकिन, वहां घर, गाड़ियाँ, नहीं जलती थी! जानते हैं क्यों ? 🤔क्योंकि वहां हिन्दू के घर नहीं थे\"\n",
    "\n",
    "# text = \"ये अटल जी के बस की बात ही नही थी जो काम मोदी और अमित शाह जी ने किया।\"\n",
    "# text = \"#संजय_सिंह_गुंडा_है कमीना है सूअर की औलाद हरामी\"\n",
    "# text = \"@rastogimbd1 @Nargis_Ansari73 चुप रह आसाराम की औलाद कुते\"\n",
    "# text = \"@SrBachchan बुड्ढे कमीनी सदी का महानायक नहीं तुम मान नालायक है तेरी शक्ल से भी नफरत है कब्र पर जाकर बैठ जा\"\n",
    "\n",
    "# text = \"@BasudebaTripat4: @Rajanspsingh1 अच्छा किया साले का सर फोड़ दिया,, गर्दन तोड़ देते तो और भी अच्छा होता साले को पता चल गया होगा हिंदुस्ता…\"\n",
    "# text = \"@rastogimbd1 @Nargis_Ansari73 चुप रह आसाराम की औलाद कुते\"\n",
    "# text = \"ये अटल जी के बस की बात ही नही थी जो काम मोदी और अमित शाह जी ने किया।\"\n",
    "# text = \"जाँच हो रही थी सुशांत की मौत की,और “गिरफ़्तारी” हो रही है “हुक्का” पीने के जुर्म में, 😆😆😆🤔 #RheaChakroborty 🙆‍ ♂️🙎\"\n",
    "# text = \"रैना तो वापस आ जायेगा, बज्जी टाटा गुड बाय,आपको कोई नही बुलाएगा |\"\n",
    "# text = \"मिलिए जामिया की महिला protester से  इनके मा बाप इनको इस लूक मे देख यही सोचते होंगे  काश की इसकी जगह हमने बकरी पैदा की होती #JamiaMilia\"\n",
    "# text = \"@Dr_Uditraj अरे कमीने तू पागल हो गया है तेरे सपनो तुझे डराने आ रही क्या कँगना जी\"\n",
    "# text = \"ये अटल जी के बस की बात ही नही थी जो काम मोदी और अमित शाह जी ने किया।\"\n",
    "# text = \"अपने ही घर के पिछवाड़े से भागते इस व्यक्ति को पहचानते हैं..?  हिंट : एक भाजपा शासित  राज्य के मुख्यमंत्री हैं। बूझो तो मानु ?\"\n",
    "# text = \"संजय सिंह अर्बन नक्सलवादी के पैदाइश है साला राज्य सभा में येसा किया तो समझो ये गांवों और कस्बों में क्या करेगा ये साला जाहिल गंवार है #संजय_सिंह_गुंडा_है  #संजय_सिंह_को_गिरफ्तार_करो\"\n",
    "# text = \"शेर ने पाँच ट्रिलियन इकॉनमी पर छलाँग के लिए -23.9% कदम पिछे लिए हैं, समझे!?  #भक्त_लॉजिक \"\n",
    "# text = \"वैसे एक बात बताइए शाहीन बाग में फिक्स रेट है या मोलभाव भी होता है ? लेकिन हिसाब किताब में आप तो अभिजीत बैनर्जी का न्याय योजना को भी पटकनी दे दिए 😂\"\n",
    "# text = \"80 के पार पेट्रोल फिर भी खामोश है दलाल\"\n",
    "# text = \"तुम मुस्लिम के साथ लव जिहाद में फस गए हो, जिससे तुम्हारा बोलने का तरीका मुस्लिमों जैसा हो गया है।\"\n",
    "# text = \"अंध भक्तो अगर अब भी नही संभले तो वो दिन दूर नही जब एक किडनी पे जियोगे लिख कर पर्स में रख लो।\"\n",
    "# text = \"ग्रामीण पृष्ठभूमि से हूं एक बात कहूंगा की जब बैलगाड़ी को बैल खींच रहे होते है तब उसके नीचे एक कुतिया भी चलती है और सोचती है बैलगाड़ी में खींच रही हूं लेकिन जब कुतिया को बैल की लात पड़ती है तो उसकी गलतफहमी दूर होती है की गाड़ी में नहीं बैल खींच रहे है ऐसा ही हाल आपका है! https://t.co/87xerM5zYP\"\n",
    "# text = \"कंगना तू बिमार हें, तुझे इलाज की जरूरत हें.\"\n",
    "# text = \"@AvikantT @RubikaLiyaquat अरे गवार कोई डॉक्यूमेंट पेश कर जिसमें भारत चाइना से बात करने के लिए मना की है 10 बार रूस की यात्रा की है राजनाथ सिंह तो फिर रिश्ता जोड़ने के लिए  रूस गया बातचीत  करनी नहीं थी तो रूस क्यों मूर्खों को मूर्ख बनाना मुझे बनाने की गलती मत करना\"\n",
    "# text = \"@RajatSharmaLive तू जैसे कमीनी पत्रकार की वजह से आज देश मैं अमन और चैन नहीं रहा तेरे जैसे पत्रकारों की वजह से आज हमारे देश में यह दंगे फसाद सब कुछ तुम लोगों की वजह से हो रहा है कभी ना कभी तो वक्त पलट भी जाएगा तब तुझसे हिसाब लूंगा तब तक के लिए जय हिंद जय भारत\"\n",
    "# text = \"@SrBachchan बुड्ढे कमीनी सदी का महानायक नहीं तुम मान नालायक है तेरी शक्ल से भी नफरत है कब्र पर जाकर बैठ जा\"\n",
    "\n",
    "\n",
    "\n",
    "### Hate\n",
    "# text = \"चीन से जारी तनाव पर विपक्षी दलों के साथ बंद दरवाजे के पीछे बैठक कर सकती है सरकार देश को आग में झोंक कर दरवाजे बंद में बैठक विपक्षी को  हिस्सा नहीं लेनी चाहिए जिसने किया है वह भरेगा\"\n",
    "# text = \"क्या आप कश्मीर के लोगों के साथ हो। अगर हां तो इस ट्रेंड को सपोर्ट करो।#KashmirSecondPalestine\"\n",
    "# text = \"जिस सोशल प्लेटफार्म के जरिये बीजेपी सत्ता में आयी और झूठ की बातों को प्रचार किया उसी प्लेटफार्म पर आजकल साहब को dislike मिल रहे है वो भी बल्क में। समय फिरता है मालिक।\"\n",
    "# text = \"कश्मीर के लोगों पर हो रहे ज़ुल्म के खिलाफ आवाज उठाइए।\"\n",
    "# text = '१२ करोड़ नौकरियां गायब करने के बाद प्रधानमंत्री देसी कुत्ता पालने का सुझाव दे रहें है। भारत का प्रधानमंत्री बेरोज़गारी रोकने में असक्षम है । \"निकम्मी सरकार भाजपा सरकार \" '\n",
    "# text = 'लो एक की राख ठंडी नहीं हुई दूसरी की जल गई बाराबंकी में 8 साल की बच्ची से रेप  हिंदुओं और बनों सैकुलर मादरचोदों'\n",
    "# text = \"योगी जी के भय से बंद हुए घर मे ताज़िये हुए दफन और मुहर्रम भी बदल गया गम। ये है योगी राज\"\n",
    "# text = \"अगर postpone नही हुआ तो 2M dislike पहुँचा देंगे, शांति से समझ जाओ\"\n",
    "# text = \"किसी व्यक्ति को पेड़ से बांधकर ईंट-पत्थर, डंडों से मारो, अगर वो मर गया तो गलती उसके कमजोर 'दिल' की है।😠😡😠 https://t.co/prSfQCv9wj\"\n",
    "\n",
    "\n",
    "### Fake\n",
    "# text = \" राम मंदिर का निर्माण शुरू हुआ तो आत्महत्या कर लूंगा - कपिल सिबल' | 'सावधान 5 अगस्त को कपिल सिबल आत्महत्या कर सकते हैं |\"\n",
    "# text = \"एक मंदिर के तोरण (archway) पर लिखा यह संदेश: यह तीर्थ हिन्दुओं का पवित्र स्थल है शूद्र मुसलमान का प्रवेश वर्जित है\"\n",
    "\n",
    "### Defamation\n",
    "# text = \"अक्षय कुमार की पत्नी उतरी रिया चक्रवर्ती के समर्थन में\"\n",
    "\n",
    "### Defamation + Fake\n",
    "# text = \"अभिनंदन ने बीजेपी पर आरोप लगाते हुए बयान दिया है कि पुलवामा हमला बीजेपी की सोची समझी साजिश थी #FactCheck (@Ami_Amanpreet)\"\n",
    "\n",
    "\n",
    "### Defamation + Offensive\n",
    "# text = \"निज़ामुद्दीन में मुस्लिम लड़कों द्वारा बर्तन चाट कर कोरोना वायरस फैलाने की कोशिश' बता कर पुराना वीडियो शेयर @AltNews @ARajeshSP @BrajeshYadavSP @cp4yad @YasheshYadav @abhinavbilari @DineshmishraRm @DrDineshChaube1 @drushayadav @aashishsy\" \n",
    "\n",
    "\n",
    "\n",
    "### Hate and Offensive\n",
    "# text = \"पत्थर तो कश्मीर में भी फैंके जाते थे लेकिन, वहां घर, गाड़ियाँ, नहीं जलती थी! जानते हैं क्यों ? 🤔क्योंकि वहां हिन्दू के घर नहीं थे\"\n",
    "# text = \"ये कमीना बातें बड़ी बड़ी करता है मगर हरकत सड़क छाप भिखमंगे की है @SanjayAzadSln https://t.co/nZwYxf0Pfl\"\n",
    "text = \"@TRHLofficial ट्रम्प हमारे लोकतंत्र के लिए खतरा हैं! इसके अलावा, अगर मेरा पक्ष किसी एक मुद्दे पर हार जाता है, तो मैं इस कुतिया को बंद करने की योजना बनाता हूं! दंगों! गृह युद्ध!\"\n",
    "\n",
    "### Non Hostile\n",
    "# text = \"कफ़ील खान के मामले में हाई कोर्ट का फ़ैसला योगी सरकार के अन्यायी चेहरे को बेनक़ाब करता है ध्यान से पढ़ो योगी जी, हाई कोर्ट ने कहा “कफ़ील खान का भाषण राष्ट्रीय एकता और अखंडता की अपील करता है” और योगी जी ने कफ़ील को राष्ट्रद्रोही घोषित कर दिया “शर्मनाक” #drkafeelkhan https://t.co/nB9Jhlvm93\"\n",
    "\n",
    "tokenized_text, input_ids, attention_masks, lexicon_vector, average_lexicon,\\\n",
    "lexicon_mask, mha_mask, gold_attn_vector, avg_hashtag_vector, \\\n",
    "sum_hashtag_vector, avg_emoji_vector, sum_emoji_vector = preprocess_text(text)"
   ]
  },
  {
   "cell_type": "code",
   "execution_count": 115,
   "metadata": {},
   "outputs": [
    {
     "name": "stdout",
     "output_type": "stream",
     "text": [
      "torch.Size([1, 128, 5])\n"
     ]
    }
   ],
   "source": [
    "### preparing some data as a batch\n",
    "# input_ids          = torch.unsqueeze(input_ids,0)\n",
    "# attention_masks    = torch.unsqueeze(attention_masks, 0)\n",
    "\n",
    "lexicon_vector     = torch.unsqueeze(lexicon_vector,0)\n",
    "lexicon_mask       = torch.unsqueeze(lexicon_mask, 0)\n",
    "gold_attn_vector   = torch.unsqueeze(gold_attn_vector,0)\n",
    "\n",
    "avg_emoji_vector   = torch.unsqueeze(avg_emoji_vector, 0)\n",
    "avg_hashtag_vector = torch.unsqueeze(avg_hashtag_vector, 0)\n",
    "\n",
    "print(lexicon_vector.shape)"
   ]
  },
  {
   "cell_type": "code",
   "execution_count": 116,
   "metadata": {},
   "outputs": [],
   "source": [
    "outputs, attentions = model(input_ids, attention_masks, gold_attn_vector, lexicon_vector, lexicon_mask, mha_mask, avg_emoji_vector, avg_hashtag_vector)"
   ]
  },
  {
   "cell_type": "code",
   "execution_count": 117,
   "metadata": {},
   "outputs": [
    {
     "data": {
      "text/plain": [
       "array([[0., 0., 1., 1.]], dtype=float32)"
      ]
     },
     "execution_count": 117,
     "metadata": {},
     "output_type": "execute_result"
    }
   ],
   "source": [
    "outputs = torch.sigmoid(outputs.detach())\n",
    "outputs = np.round(outputs.numpy())\n",
    "outputs"
   ]
  },
  {
   "cell_type": "code",
   "execution_count": 118,
   "metadata": {},
   "outputs": [
    {
     "data": {
      "text/plain": [
       "tensor(1.0000, grad_fn=<SumBackward0>)"
      ]
     },
     "execution_count": 118,
     "metadata": {},
     "output_type": "execute_result"
    }
   ],
   "source": [
    "torch.sum(attentions[0][1][0])"
   ]
  },
  {
   "cell_type": "code",
   "execution_count": 119,
   "metadata": {},
   "outputs": [
    {
     "name": "stdout",
     "output_type": "stream",
     "text": [
      "[CLS] @ TR ##H ##L ##off ##icial ट्रम्प हमारे लोकतंत्र के लिए खतरा हैं ! इसके अलावा , अगर मेरा पक्ष किसी एक मुद्दे पर हार जाता है , तो मैं इस कुत ##िया को बंद करने की योजना बनाता हूं ! दंगों ! गृह युद्ध ! [SEP] [PAD] [PAD] [PAD] [PAD] [PAD] [PAD] [PAD] [PAD] [PAD] [PAD] [PAD] [PAD] [PAD] [PAD] [PAD] [PAD] [PAD] [PAD] [PAD] [PAD] [PAD] [PAD] [PAD] [PAD] [PAD] [PAD] [PAD] [PAD] [PAD] [PAD] [PAD] [PAD] [PAD] [PAD] [PAD] [PAD] [PAD] [PAD] [PAD] [PAD] [PAD] [PAD] [PAD] [PAD] [PAD] [PAD] [PAD] [PAD] [PAD] [PAD] [PAD] [PAD] [PAD] [PAD] [PAD] [PAD] [PAD] [PAD] [PAD] [PAD] [PAD] [PAD] [PAD] [PAD] [PAD] [PAD] [PAD] [PAD] [PAD] [PAD] [PAD] [PAD] [PAD] [PAD] [PAD] [PAD] [PAD] [PAD] [PAD] [PAD]\n"
     ]
    }
   ],
   "source": [
    "print(tokenized_text)"
   ]
  },
  {
   "cell_type": "code",
   "execution_count": 120,
   "metadata": {},
   "outputs": [],
   "source": [
    "temp_text = tokenized_text\n",
    "temp_attention = attentions[0][0]"
   ]
  },
  {
   "cell_type": "code",
   "execution_count": 121,
   "metadata": {},
   "outputs": [],
   "source": [
    "def merge_attention(text, text_attention):\n",
    "\n",
    "    new_text = []\n",
    "    new_attention = []\n",
    "    text = text.split()\n",
    "    ### ord(\"m\") is used to get the ascii value; tokenized _ has ord 9601 where are normal _ has 95\n",
    "    \n",
    "    \n",
    "    flag  = 0\n",
    "    count = 0\n",
    "    \n",
    "    for word,attention in zip(text, text_attention[0]):\n",
    "#         print(word)\n",
    "        if((len(new_text) == 0)) :\n",
    "#             print(\"CASE 1: \",word)\n",
    "            new_text.append(word)\n",
    "            new_attention.append(attention)\n",
    "            flag = 1\n",
    "            count = 1\n",
    "    \n",
    "        elif( (len(new_text)>1 and (new_text[-1] == '#'))):\n",
    "#             print(\"CASE 3: \",word)\n",
    "            new_text[-1] += word\n",
    "            new_attention[-1] += attention\n",
    "            count += 1\n",
    "    \n",
    "\n",
    "     \n",
    "        elif( (len(word) == 1)  or ((ord(word[0]) != 35) and (ord(word[1]) != 35)) ):\n",
    "            \n",
    "#             print(\"Dump: \",word)\n",
    "            new_attention[-1] = new_attention[-1]/count\n",
    "            new_text.append(word)\n",
    "            new_attention.append(attention)\n",
    "            flag = 1\n",
    "            count = 1\n",
    "\n",
    "            \n",
    "            \n",
    "        elif( (((ord(word[0]) == 35) and (ord(word[1]) == 35)) and (flag==1)) \\\n",
    "              or ( (ord(word[0]) == 35) and (flag==1))):\n",
    "            \n",
    "#             print(\"CASE 2: \",word)\n",
    "            if(len(word)>2):\n",
    "                new_text[-1] += word[2:]\n",
    "            else:\n",
    "                new_text[1] += word[1]\n",
    "            new_attention[-1] += attention\n",
    "            count += 1\n",
    "        \n",
    "        else:\n",
    "#             print(\"BC: \",word)\n",
    "            new_attention[-1] = new_attention[-1]/count\n",
    "            new_text.append(word)\n",
    "            new_attention.append(attention)\n",
    "            flag = 0\n",
    "            count = 0\n",
    "            \n",
    "\n",
    "#     for i,scores in enumerate(zip(new_text,new_attention)):\n",
    "#         print(f'{i:3} --> {scores[0]:7} --> {float(scores[1]):10.5}' ) \n",
    "            \n",
    "#     print(\"\\n\\nFinal Text: \", new_text,\"\\n\\n\")\n",
    "#     print(\"\\n\\nFinal Attention: \", new_attention,\"\\n\\n\")\n",
    "\n",
    "#     print(\"Shape of new text: \", len(new_text))\n",
    "#     print(\"Shape of new attention: \", len(new_attention))\n",
    "\n",
    "    return new_text, new_attention"
   ]
  },
  {
   "cell_type": "code",
   "execution_count": 122,
   "metadata": {},
   "outputs": [],
   "source": [
    "new_text, new_attention = merge_attention(temp_text, temp_attention)"
   ]
  },
  {
   "cell_type": "code",
   "execution_count": null,
   "metadata": {},
   "outputs": [],
   "source": []
  },
  {
   "cell_type": "code",
   "execution_count": null,
   "metadata": {},
   "outputs": [],
   "source": []
  },
  {
   "cell_type": "code",
   "execution_count": 123,
   "metadata": {},
   "outputs": [],
   "source": [
    "for i in range(4):\n",
    "    for j in range(2):\n",
    "        text, attentions[i][j] = merge_attention(tokenized_text, np.asarray(attentions[i][j]))\n",
    "\n"
   ]
  },
  {
   "cell_type": "code",
   "execution_count": 124,
   "metadata": {},
   "outputs": [],
   "source": [
    "# temp_text = text\n",
    "# temp_attention = attentions[0][0]"
   ]
  },
  {
   "cell_type": "code",
   "execution_count": 125,
   "metadata": {},
   "outputs": [],
   "source": [
    "def merge_emoji_text(text, text_attention):\n",
    "    \n",
    "\n",
    "    ### For attaching underscores --> folded _ hands --> folded_hands\n",
    "    new_text = []\n",
    "    new_attention = []\n",
    "    flag = 0\n",
    "    \n",
    "    for word,attention in zip(text, text_attention):\n",
    "        \n",
    "        if(ord(word[0]) != 95 and flag==0):\n",
    "            new_text.append(word)\n",
    "            new_attention.append(attention)\n",
    "        elif(ord(word[0]) == 95 and flag==0):\n",
    "            new_text[-1]      += word\n",
    "            new_attention[-1] += attention\n",
    "            flag = 1\n",
    "        else:\n",
    "            new_text[-1]      += word\n",
    "            new_attention[-1] += attention\n",
    "            flag = 0\n",
    "            \n",
    "    ### For attaching @ user ---> @user\n",
    "    new_text_2 = []\n",
    "    new_attention_2 = []\n",
    "    flag = 0 \n",
    "    for word,attention in zip(new_text, new_attention):\n",
    "        \n",
    "        if(ord(word[0]) != 64 and flag==0):\n",
    "            new_text_2.append(word)\n",
    "            new_attention_2.append(attention)\n",
    "            \n",
    "        elif(ord(word[0]) == 64 and flag==0):\n",
    "            new_text_2.append(word)\n",
    "            new_attention_2.append(attention)\n",
    "            flag = 1\n",
    "            \n",
    "        else:\n",
    "            new_text_2[-1]      += word\n",
    "            new_attention_2[-1] += attention\n",
    "            flag = 0\n",
    "    \n",
    "    new_text = new_text_2\n",
    "    new_attention = new_attention_2\n",
    "            \n",
    "        \n",
    "    new_text = ''.join([emoji.emojize(':'+word+':') if( emoji.emojize(':'+word+':') in UNICODE_EMO) else ' '+word+' ' for word in new_text])\n",
    "    new_text = emoji.emojize(new_text).split()\n",
    "    new_text = ' '.join(new_text)\n",
    "    new_text = new_text.replace(\"[PAD]\", '')\n",
    "    new_text = new_text.split()      \n",
    "    new_attention = new_attention[:len(new_text)]\n",
    "    \n",
    "    \n",
    "#     for i,scores in enumerate(zip(new_text,new_attention)):\n",
    "#         print(f'{i:3} --> {scores[0]:7} --> {float(scores[1]):10.5}' )\n",
    "    \n",
    "#     print(\"\\n\\nFinal Text: \", new_text,\"\\n\\n\")\n",
    "#     print(\"\\n\\nFinal Attention: \", new_attention,\"\\n\\n\")\n",
    "\n",
    "#     print(\"Shape of new text: \", len(new_text))\n",
    "#     print(\"Shape of new attention: \", len(new_attention))\n",
    "    \n",
    "    return new_text, new_attention"
   ]
  },
  {
   "cell_type": "code",
   "execution_count": 126,
   "metadata": {},
   "outputs": [],
   "source": [
    "# new_text, new_attention = merge_emoji_text(temp_text, temp_attention)"
   ]
  },
  {
   "cell_type": "code",
   "execution_count": 127,
   "metadata": {},
   "outputs": [],
   "source": [
    "for i in range(4):\n",
    "    for j in range(2):\n",
    "        temp_text = text\n",
    "        temp_attention = attentions[i][j]\n",
    "        new_text, attentions[i][j] = merge_emoji_text(temp_text, np.asarray(temp_attention))\n",
    "\n"
   ]
  },
  {
   "cell_type": "code",
   "execution_count": 128,
   "metadata": {},
   "outputs": [
    {
     "name": "stdout",
     "output_type": "stream",
     "text": [
      "  0 --> [CLS]   -->        0.0\n",
      "  1 --> @TRHLofficial -->   0.038116\n",
      "  2 --> ट्रम्प  -->   0.018102\n",
      "  3 --> हमारे   -->   0.016819\n",
      "  4 --> लोकतंत्र -->   0.047981\n",
      "  5 --> के      -->   0.017638\n",
      "  6 --> लिए     -->   0.017996\n",
      "  7 --> खतरा    -->   0.018454\n",
      "  8 --> हैं     -->   0.017504\n",
      "  9 --> !       -->   0.047999\n",
      " 10 --> इसके    -->   0.017691\n",
      " 11 --> अलावा   -->   0.018346\n",
      " 12 --> ,       -->        0.0\n",
      " 13 --> अगर     -->   0.018605\n",
      " 14 --> मेरा    -->   0.017806\n",
      " 15 --> पक्ष    -->   0.019735\n",
      " 16 --> किसी    -->   0.018193\n",
      " 17 --> एक      -->   0.017514\n",
      " 18 --> मुद्दे  -->   0.017197\n",
      " 19 --> पर      -->   0.018505\n",
      " 20 --> हार     -->   0.032023\n",
      " 21 --> जाता    -->     0.0178\n",
      " 22 --> है      -->    0.02167\n",
      " 23 --> ,       -->        0.0\n",
      " 24 --> तो      -->   0.020004\n",
      " 25 --> मैं     -->   0.047924\n",
      " 26 --> इस      -->   0.017561\n",
      " 27 --> कुतिया  -->   0.017436\n",
      " 28 --> को      -->   0.018371\n",
      " 29 --> बंद     -->   0.017303\n",
      " 30 --> करने    -->   0.017088\n",
      " 31 --> की      -->    0.02001\n",
      " 32 --> योजना   -->   0.017757\n",
      " 33 --> बनाता   -->    0.01797\n",
      " 34 --> हूं     -->    0.01807\n",
      " 35 --> !       -->   0.047672\n",
      " 36 --> दंगों   -->   0.017124\n",
      " 37 --> !       -->   0.048038\n",
      " 38 --> गृह     -->   0.017598\n",
      " 39 --> युद्ध   -->   0.018239\n",
      " 40 --> !       -->   0.047241\n",
      " 41 --> [SEP]   -->        0.0\n"
     ]
    }
   ],
   "source": [
    "for i,scores in enumerate(zip(new_text,attentions[0][1])):\n",
    "    print(f'{i:3} --> {scores[0]:7} --> {float(scores[1]):10.5}' )"
   ]
  },
  {
   "cell_type": "code",
   "execution_count": 129,
   "metadata": {},
   "outputs": [
    {
     "data": {
      "image/png": "[encoded data removed]",
      "text/plain": [
       "<Figure size 1080x504 with 2 Axes>"
      ]
     },
     "metadata": {
      "needs_background": "light"
     },
     "output_type": "display_data"
    }
   ],
   "source": [
    "dim_ind  = 0\n",
    "fig, ax = plt.subplots(nrows=1, ncols=2, figsize=(15,7))\n",
    "\n",
    "counter = 0\n",
    "x       = np.arange(0, len(attentions[dim_ind][0]))\n",
    "attn    = [attentions[dim_ind][0], attentions[dim_ind][1]]\n",
    "word    = [\"Gold\", \"Output After Training \", \"Gold\"]\n",
    "hostile = [\"Defamation \", \"Fake \", \"Hate \", \"Offensive \"]\n",
    "\n",
    "for col in ax:\n",
    "    scores = attn[counter]\n",
    "    col.bar(x, scores)\n",
    "    col.set_xlabel(\"Tokens\")\n",
    "    col.set_ylabel(\"Attention Scores\")\n",
    "    title = hostile[dim_ind] + word[counter] + \" Attention scores\"\n",
    "    col.set_title(title)\n",
    "    counter += 1\n",
    "plt.show()"
   ]
  },
  {
   "cell_type": "code",
   "execution_count": 130,
   "metadata": {},
   "outputs": [
    {
     "data": {
      "image/png": "[encoded data removed]",
      "text/plain": [
       "<Figure size 1080x504 with 2 Axes>"
      ]
     },
     "metadata": {
      "needs_background": "light"
     },
     "output_type": "display_data"
    }
   ],
   "source": [
    "dim_ind  = 1\n",
    "fig, ax = plt.subplots(nrows=1, ncols=2, figsize=(15,7))\n",
    "\n",
    "counter = 0\n",
    "x       = np.arange(0, len(attentions[dim_ind][0]))\n",
    "attn    = [attentions[dim_ind][0], attentions[dim_ind][1]]\n",
    "word    = [\"Gold\", \"Output Before Training \", \"Gold\", \"Output After Training \"]\n",
    "hostile = [\"Defamation \", \"Fake \", \"Hate \", \"Offensive \"]\n",
    "\n",
    "for col in ax:\n",
    "    scores = attn[counter]\n",
    "    col.bar(x, scores)\n",
    "    col.set_xlabel(\"Tokens\")\n",
    "    col.set_ylabel(\"Attention Scores\")\n",
    "    title = hostile[dim_ind] + word[counter] + \" Attention scores\"\n",
    "    col.set_title(title)\n",
    "    counter += 1\n",
    "plt.show()"
   ]
  },
  {
   "cell_type": "code",
   "execution_count": 131,
   "metadata": {},
   "outputs": [
    {
     "data": {
      "image/png": "[encoded data removed]",
      "text/plain": [
       "<Figure size 1080x504 with 2 Axes>"
      ]
     },
     "metadata": {
      "needs_background": "light"
     },
     "output_type": "display_data"
    }
   ],
   "source": [
    "dim_ind  = 2\n",
    "fig, ax = plt.subplots(nrows=1, ncols=2, figsize=(15,7))\n",
    "\n",
    "counter = 0\n",
    "x       = np.arange(0, len(attentions[dim_ind][0]))\n",
    "attn    = [attentions[dim_ind][0], attentions[dim_ind][1]]\n",
    "word    = [\"Gold\", \"Output Before Training \", \"Gold\", \"Output After Training \"]\n",
    "hostile = [\"Defamation \", \"Fake \", \"Hate \", \"Offensive \"]\n",
    "\n",
    "for col in ax:\n",
    "    scores = attn[counter]\n",
    "    col.bar(x, scores)\n",
    "    col.set_xlabel(\"Tokens\")\n",
    "    col.set_ylabel(\"Attention Scores\")\n",
    "    title = hostile[dim_ind] + word[counter] + \" Attention scores\"\n",
    "    col.set_title(title)\n",
    "    counter += 1\n",
    "plt.show()"
   ]
  },
  {
   "cell_type": "code",
   "execution_count": 132,
   "metadata": {},
   "outputs": [
    {
     "data": {
      "image/png": "[encoded data removed]",
      "text/plain": [
       "<Figure size 1080x504 with 2 Axes>"
      ]
     },
     "metadata": {
      "needs_background": "light"
     },
     "output_type": "display_data"
    }
   ],
   "source": [
    "dim_ind  = 3\n",
    "fig, ax = plt.subplots(nrows=1, ncols=2, figsize=(15,7))\n",
    "\n",
    "counter = 0\n",
    "x       = np.arange(0, len(attentions[dim_ind][0]))\n",
    "attn    = [attentions[dim_ind][0], attentions[dim_ind][1]]\n",
    "word    = [\"Gold\", \"Output Before Training \", \"Gold\", \"Output After Training \"]\n",
    "hostile = [\"Defamation \", \"Fake \", \"Hate \", \"Offensive \"]\n",
    "\n",
    "for col in ax:\n",
    "    scores = attn[counter]\n",
    "    col.bar(x, scores)\n",
    "    col.set_xlabel(\"Tokens\")\n",
    "    col.set_ylabel(\"Attention Scores\")\n",
    "    title = hostile[dim_ind] + word[counter] + \" Attention scores\"\n",
    "    col.set_title(title)\n",
    "    counter += 1\n",
    "plt.show()"
   ]
  },
  {
   "cell_type": "code",
   "execution_count": null,
   "metadata": {},
   "outputs": [],
   "source": []
  },
  {
   "cell_type": "markdown",
   "metadata": {},
   "source": [
    "<h4> Generating Latex Attention Output"
   ]
  },
  {
   "cell_type": "code",
   "execution_count": 133,
   "metadata": {},
   "outputs": [],
   "source": [
    "def get_label(label):\n",
    "    label_vector = \"\"\n",
    "\n",
    "    if(label[0]==1.0):\n",
    "        label_vector += \"defamation,\"\n",
    "\n",
    "    if(label[1]==1.0):\n",
    "        label_vector += \"fake,\"\n",
    "\n",
    "    if(label[2]==1.0):\n",
    "        label_vector += \"hate,\"\n",
    "\n",
    "    if(label[3]==1.0):\n",
    "        label_vector += \"offensive,\"\n",
    "\n",
    "    if(label_vector ==\"\"):\n",
    "        label_vector = \"non-hostile \"\n",
    "\n",
    "    label_vector = label_vector[:-1]\n",
    "    return label_vector"
   ]
  },
  {
   "cell_type": "code",
   "execution_count": 134,
   "metadata": {},
   "outputs": [
    {
     "name": "stdout",
     "output_type": "stream",
     "text": [
      "hate,offensive \n",
      "\n",
      "\n",
      "Gold Defamation Attention Scores: \n",
      "\n",
      "Hello\n",
      "@TRHLofficial 24.630689062178135\n",
      "लोकतंत्र 23.52452091872692\n",
      "! 22.19340205192566\n",
      "हार 23.89422617852688\n",
      "मैं 23.900533095002174\n",
      "कुतिया 13.188795186579227\n",
      "हूं 13.395758345723152\n",
      "! 22.19340205192566\n",
      "! 22.19340205192566\n",
      "! 22.19340205192566\n",
      "\n",
      "\n",
      "\n",
      "SLATE with KL Divergence LossDefamation Attention Scores: \n",
      "\n",
      "Hello\n",
      "@TRHLofficial 19.05781906098127\n",
      "लोकतंत्र 23.99064600467682\n",
      "! 23.999296128749847\n",
      "हार 16.011469066143036\n",
      "है 10.834931395947933\n",
      "मैं 23.96179363131523\n",
      "की 10.005044750869274\n",
      "! 23.836033418774605\n",
      "! 24.01893585920334\n",
      "! 23.62031489610672\n",
      "\n",
      "\n",
      "\n",
      "Gold Fake Attention Scores: \n",
      "\n",
      "Hello\n",
      "ट्रम्प 20.815277472138405\n",
      "लिए 20.183831453323364\n",
      "खतरा 20.81458270549774\n",
      "हैं 20.64386196434498\n",
      "इसके 20.815325900912285\n",
      "अलावा 20.51887847483158\n",
      "एक 20.81366628408432\n",
      "इस 20.7534022629261\n",
      "करने 19.65232938528061\n",
      "योजना 20.815322175621986\n",
      "\n",
      "\n",
      "\n",
      "SLATE with KL Divergence LossFake Attention Scores: \n",
      "\n",
      "Hello\n",
      "के 22.485731169581413\n",
      "लिए 23.817837238311768\n",
      "खतरा 15.740055590867996\n",
      "हैं 23.100296035408974\n",
      "इसके 22.825822234153748\n",
      "अलावा 23.10299500823021\n",
      "एक 22.098392248153687\n",
      "इस 22.53556437790394\n",
      "करने 23.958617821335793\n",
      "योजना 20.150918513536453\n",
      "\n",
      "\n",
      "\n",
      "Gold Hate Attention Scores: \n",
      "\n",
      "Hello\n",
      "@TRHLofficial 19.566635042428967\n",
      "हमारे 19.43347603082657\n",
      "अगर 22.379200905561447\n",
      "किसी 19.87166330218315\n",
      "मुद्दे 22.386666387319565\n",
      "जाता 15.982111915946007\n",
      "तो 15.09646326303482\n",
      "को 16.96121133863926\n",
      "दंगों 22.38643169403076\n",
      "युद्ध 22.38665334880352\n",
      "\n",
      "\n",
      "\n",
      "SLATE with KL Divergence LossHate Attention Scores: \n",
      "\n",
      "Hello\n",
      "@TRHLofficial 18.002875335514545\n",
      "हमारे 23.53445626795292\n",
      "अगर 23.261556401848793\n",
      "किसी 20.99350467324257\n",
      "मुद्दे 14.308986254036427\n",
      "जाता 20.71579545736313\n",
      "तो 16.044065356254578\n",
      "को 18.580425530672073\n",
      "दंगों 17.262717708945274\n",
      "युद्ध 21.725263446569443\n",
      "\n",
      "\n",
      "\n",
      "Gold Offensive Attention Scores: \n",
      "\n",
      "Hello\n",
      "@TRHLofficial 36.760288849473\n",
      "मेरा 19.622977823019028\n",
      "पक्ष 17.44612492620945\n",
      "किसी 9.507483802735806\n",
      "है 11.83604821562767\n",
      "तो 10.88495273143053\n",
      "कुतिया 23.283522576093674\n",
      "बंद 17.490370199084282\n",
      "बनाता 19.43674497306347\n",
      "हूं 15.31206350773573\n",
      "\n",
      "\n",
      "\n",
      "SLATE with KL Divergence LossOffensive Attention Scores: \n",
      "\n",
      "Hello\n",
      "@TRHLofficial 35.79327352344989\n",
      "खतरा 9.8698316141963\n",
      "मेरा 24.865034967660904\n",
      "पक्ष 10.495735332369804\n",
      "है 12.603217735886574\n",
      "तो 11.28726452589035\n",
      "कुतिया 24.539649486541748\n",
      "बंद 23.267585784196854\n",
      "बनाता 13.780170120298862\n",
      "हूं 20.733755081892014\n",
      "\n",
      "\n",
      "\n"
     ]
    }
   ],
   "source": [
    "### Reference from: https://github.com/jiesutd/Text-Attention-Heatmap-Visualization/blob/master/text_attention.py\n",
    "\n",
    "## convert the text/attention list to latex code, which will further generates the text heatmap based on attention weights.\n",
    "import numpy as np\n",
    "\n",
    "latex_special_token = [\"!@#$%^&*()\"]\n",
    "\n",
    "def generate(text_list, attention_list, latex_file, flag, dim_ind, model_name, color='red', rescale_value = False):\n",
    "    assert(len(text_list) == len(attention_list))\n",
    "    if rescale_value:\n",
    "        attention_list = rescale(attention_list)\n",
    "    word_num = len(text_list)\n",
    "    text_list = clean_word(text_list)\n",
    "    \n",
    "    if(flag==0):\n",
    "        with open(latex_file,'w') as f:\n",
    "            f.write(r'''\n",
    "            \n",
    "\\documentclass{report}\n",
    "\\usepackage{polyglossia}\n",
    "\n",
    "\\setdefaultlanguage{hindi}\n",
    "\\setotherlanguage{english}\n",
    "\n",
    "\\usepackage{fontspec}\n",
    "\\setmainfont{Times New Roman}\n",
    "\\newfontfamily\\devanagarifont[Scale=MatchUppercase]{Nakula}\n",
    "\\newfontfamily\\devtransl[Mapping=DevRom]{Times New Roman}\n",
    "\\setmainfont{Nakula}\n",
    "\n",
    "\\special{papersize=210mm,297mm}\n",
    "\\usepackage{color}\n",
    "\\usepackage{tcolorbox}\n",
    "\\usepackage{CJK}\n",
    "\\usepackage{adjustbox}\n",
    "\n",
    "\n",
    "\\tcbset{width=0.9\\textwidth,boxrule=0pt,colback=red,arc=0pt,auto outer arc,left=0pt,right=0pt,boxsep=5pt}\n",
    "\n",
    "\n",
    "\\begin{document}''' +'\\n')\n",
    "            \n",
    "            if(dim_ind==0):\n",
    "                f.write(r'''\\noindent Gold Defamation Attention Scores Heatmap\\\\''' + '\\n')\n",
    "\n",
    "            elif(dim_ind==1):\n",
    "                f.write(r'''\\noindent Gold Fake Attention Scores Heatmap\\\\''' + '\\n')\n",
    "\n",
    "            elif(dim_ind==2):\n",
    "                f.write(r'''\\noindent Gold Hate Attention Scores Heatmap\\\\''' + '\\n')\n",
    "            else:\n",
    "                f.write(r'''\\noindent Gold Offensive Attention Scores Heatmap\\\\''' + '\\n')\n",
    "\n",
    "            f.write(r'''\\begin{CJK*}{UTF8}{gbsn}'''+'\\n')\n",
    "\n",
    "            string = r'''{\\setlength{\\fboxsep}{0pt}\\colorbox{white!0}{\\parbox{0.9\\textwidth}{'''+\"\\n\"\n",
    "            for idx in range(word_num):\n",
    "                string += \"\\\\colorbox{%s!%s}{\"%(color, attention_list[idx])+\"\\\\strut \" + text_list[idx]+\"} \"\n",
    "            string += \"\\n}}}\"\n",
    "            f.write(string+'\\n')\n",
    "            f.write(r'''\\end{CJK*}''')\n",
    "            \n",
    "    if(flag==1):\n",
    "         with open(latex_file,'a') as f:\n",
    "            f.write(r'''\\break \\\\ \\\\''' + '\\n')\n",
    "\n",
    "            if(dim_ind==0):\n",
    "                f.write(r'''\\noindent ''' + model_name + ''' - Defamation Attention Scores Heatmap''' + '\\n')\n",
    "\n",
    "            elif(dim_ind==1):\n",
    "                f.write(r'''\\noindent ''' + model_name + ''' - Fake Attention Scores Heatmap''' + '\\n')\n",
    "\n",
    "            elif(dim_ind==2):\n",
    "                f.write(r'''\\noindent ''' + model_name + ''' - Hate Attention Scores Heatmap''' + '\\n')\n",
    "            else:\n",
    "                f.write(r'''\\noindent ''' + model_name + ''' - Offensive Attention Scores Heatmap''' + '\\n')\n",
    "            \n",
    "            f.write(r'''\\noindent \\\\ \\begin{CJK*}{UTF8}{gbsn}'''+'\\n')\n",
    "\n",
    "            string = r'''{\\setlength{\\fboxsep}{0pt}\\colorbox{white!0}{\\parbox{0.9\\textwidth}{'''+\"\\n\"\n",
    "            for idx in range(word_num):\n",
    "                string += \"\\\\colorbox{%s!%s}{\"%(color, attention_list[idx])+\"\\\\strut \" + text_list[idx]+\"} \"\n",
    "            string += \"\\n}}}\"\n",
    "            f.write(string+'\\n')\n",
    "            f.write(r'''\n",
    "\\end{CJK*}\n",
    "\\end{document}''')\n",
    "            \n",
    "\n",
    "def rescale(input_list):\n",
    "    the_array = np.asarray(input_list)\n",
    "    the_max = np.max(the_array)\n",
    "    the_min = np.min(the_array)\n",
    "    rescale = (the_array - the_min)/(the_max-the_min)*100\n",
    "    return rescale.tolist()\n",
    "\n",
    "\n",
    "def clean_word(word_list):\n",
    "    new_word_list = []\n",
    "    for word in word_list:\n",
    "        for latex_sensitive in [ '\\\\', \"%\", \"&\", \"^\", \"_\",  \"{\", \"}\", \"#\"]:\n",
    "            if latex_sensitive in word:\n",
    "                word = word.replace(latex_sensitive, '\\\\'+latex_sensitive)\n",
    "        new_word_list.append(word)\n",
    "    return new_word_list\n",
    "\n",
    "\n",
    "\n",
    "# colors  = ['red', 'cyan', 'lime', 'orange']\n",
    "colors  = ['orange', 'lime', 'red', 'cyan']\n",
    "\n",
    "\n",
    "\n",
    "indexes = [0,1,2,3]\n",
    "words = new_text\n",
    "words = words[1:-1]\n",
    "word_num = len(words)\n",
    "label = get_label(outputs[0])\n",
    "\n",
    "print(label,\"\\n\\n\")\n",
    "file_names = [label+\" Defamation.tex\",label+\" Fake.tex\",label+\" Hate.tex\",label+\" Offensive.tex\"]\n",
    "\n",
    "top_five = [0,0,0,0]\n",
    "for dim_ind in indexes:\n",
    "    for flag in range(2):\n",
    "        if(flag==0):\n",
    "            if(dim_ind==0):\n",
    "                print(\"Gold Defamation Attention Scores: \\n\")\n",
    "            \n",
    "            elif(dim_ind==1):\n",
    "                print(\"Gold Fake Attention Scores: \\n\")\n",
    "            \n",
    "            elif(dim_ind==2):\n",
    "                print(\"Gold Hate Attention Scores: \\n\")\n",
    "            \n",
    "            else:\n",
    "                print(\"Gold Offensive Attention Scores: \\n\")\n",
    "        else:\n",
    "            if(dim_ind==0):\n",
    "                print(model_names[model_index]+\"Defamation Attention Scores: \\n\")\n",
    "            \n",
    "            elif(dim_ind==1):\n",
    "                print(model_names[model_index]+\"Fake Attention Scores: \\n\")\n",
    "            \n",
    "            elif(dim_ind==2):\n",
    "                print(model_names[model_index]+\"Hate Attention Scores: \\n\")\n",
    "            \n",
    "            else:\n",
    "                print(model_names[model_index]+\"Offensive Attention Scores: \\n\")\n",
    "                        \n",
    "        attention = attentions[dim_ind][flag]\n",
    "        attention = attention[1:-1]\n",
    "        attention = [100*i for i in attention]\n",
    "        attention = np.asarray(attention)\n",
    "        attention = np.where(np.argsort(np.argsort(attention)) >= attention.shape[0]-10, attention, 0)\n",
    "\n",
    "        flag_low = 1\n",
    "        for attn in attention:\n",
    "            if(attn>28):\n",
    "                flag_low=0\n",
    "                break\n",
    "\n",
    "        if flag_low == 1:\n",
    "            print(\"Hello\")\n",
    "            for i in range(len(attention)):\n",
    "                attention[i] = 5*attention[i]\n",
    "\n",
    "\n",
    "        for i in range(len(attention)):\n",
    "            if(attention[i]>100):\n",
    "                attention[i] = 99.99\n",
    "\n",
    "            if(attention[i]>0):\n",
    "                print(words[i], attention[i])\n",
    "\n",
    "\n",
    "\n",
    "\n",
    "\n",
    "    \n",
    "        print(\"\\n\\n\")\n",
    "        color = colors[dim_ind]\n",
    "        file_name = file_names[dim_ind]\n",
    "        generate(words, attention[:len(words)], file_name, flag, dim_ind, model_name, color)"
   ]
  },
  {
   "cell_type": "code",
   "execution_count": null,
   "metadata": {},
   "outputs": [],
   "source": []
  },
  {
   "cell_type": "code",
   "execution_count": 93,
   "metadata": {},
   "outputs": [],
   "source": [
    "org_text = \"संजय सिंह अर्बन नक्सलवादी के पैदाइश है साला राज्य सभा में येसा किया तो समझो ये गांवों और कस्बों में क्या करेगा ये साला जाहिल गंवार है #संजय_सिंह_गुंडा_है  #संजय_सिंह_को_गिरफ्तार_करो\""
   ]
  },
  {
   "cell_type": "code",
   "execution_count": 98,
   "metadata": {},
   "outputs": [
    {
     "name": "stdout",
     "output_type": "stream",
     "text": [
      "['संजय', '_सिंह', '_गुंडा', '_है', 'संजय', '_सिंह', '_को', '_गिरफ्तार', '_करो']\n"
     ]
    }
   ],
   "source": [
    "hashtag_text = org_text\n",
    "\n",
    "hashtag_text = ' '.join([seg_tw.segment(word[1:]) if word[0] == '#' else \"\" for word in hashtag_text.split()])\n",
    "\n",
    "hashtag_text = hashtag_text.split()\n",
    "\n",
    "print(hashtag_text)"
   ]
  },
  {
   "cell_type": "code",
   "execution_count": null,
   "metadata": {},
   "outputs": [],
   "source": []
  },
  {
   "cell_type": "code",
   "execution_count": null,
   "metadata": {},
   "outputs": [],
   "source": []
  },
  {
   "cell_type": "code",
   "execution_count": 99,
   "metadata": {},
   "outputs": [],
   "source": [
    "org_text = \"#भोंकोभोंकनाआपकाकामहै\""
   ]
  },
  {
   "cell_type": "code",
   "execution_count": 100,
   "metadata": {},
   "outputs": [
    {
     "name": "stdout",
     "output_type": "stream",
     "text": [
      "['भोंकोभोंकनाआपकाकामहै']\n"
     ]
    }
   ],
   "source": [
    "hashtag_text = org_text\n",
    "\n",
    "hashtag_text = ' '.join([seg_tw.segment(word[1:]) if word[0] == '#' else \"\" for word in hashtag_text.split()])\n",
    "\n",
    "hashtag_text = hashtag_text.split()\n",
    "\n",
    "print(hashtag_text)"
   ]
  },
  {
   "cell_type": "code",
   "execution_count": null,
   "metadata": {},
   "outputs": [],
   "source": []
  }
 ],
 "metadata": {
  "kernelspec": {
   "display_name": "Python 3",
   "language": "python",
   "name": "python3"
  },
  "language_info": {
   "codemirror_mode": {
    "name": "ipython",
    "version": 3
   },
   "file_extension": ".py",
   "mimetype": "text/x-python",
   "name": "python",
   "nbconvert_exporter": "python",
   "pygments_lexer": "ipython3",
   "version": "3.8.5"
  }
 },
 "nbformat": 4,
 "nbformat_minor": 4
}
